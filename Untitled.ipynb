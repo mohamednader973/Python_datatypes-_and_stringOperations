{
  "nbformat": 4,
  "nbformat_minor": 0,
  "metadata": {
    "colab": {
      "name": "Untitled",
      "provenance": [],
      "collapsed_sections": [],
      "authorship_tag": "ABX9TyOiBfwFERQ8zZO+QEGbbX8W",
      "include_colab_link": true
    },
    "kernelspec": {
      "name": "python3",
      "display_name": "Python 3"
    }
  },
  "cells": [
    {
      "cell_type": "markdown",
      "metadata": {
        "id": "view-in-github",
        "colab_type": "text"
      },
      "source": [
        "<a href=\"https://colab.research.google.com/github/mohamednader973/Python_datatypes-_and_stringOperations/blob/main/Untitled.ipynb\" target=\"_parent\"><img src=\"https://colab.research.google.com/assets/colab-badge.svg\" alt=\"Open In Colab\"/></a>"
      ]
    },
    {
      "cell_type": "markdown",
      "metadata": {
        "id": "b_LH9KFJLmLc"
      },
      "source": [
        "first : printing"
      ]
    },
    {
      "cell_type": "code",
      "metadata": {
        "colab": {
          "base_uri": "https://localhost:8080/"
        },
        "id": "DjFSgYFILeud",
        "outputId": "f44eb86e-ceea-4415-eaa5-66cd784cb777"
      },
      "source": [
        "print(\"hello world\")"
      ],
      "execution_count": null,
      "outputs": [
        {
          "output_type": "stream",
          "text": [
            "hello world\n"
          ],
          "name": "stdout"
        }
      ]
    },
    {
      "cell_type": "markdown",
      "metadata": {
        "id": "chK47ovuLyCj"
      },
      "source": [
        "second:data types\r\n",
        "int ------> 2,5,0,234\r\n",
        "string ------>\"hello\",\"world\"\r\n",
        "float -------> 0.6,1.00,2.7\r\n",
        "**type casting**"
      ]
    },
    {
      "cell_type": "code",
      "metadata": {
        "colab": {
          "base_uri": "https://localhost:8080/"
        },
        "id": "ziWgaKEBL0w8",
        "outputId": "6af00397-cb40-458c-8778-121636ba2120"
      },
      "source": [
        "x=2.5\r\n",
        "y=int(x)\r\n",
        "z=str(x)\r\n",
        "print(y)\r\n",
        "print(z)"
      ],
      "execution_count": null,
      "outputs": [
        {
          "output_type": "stream",
          "text": [
            "2\n",
            "2.5\n"
          ],
          "name": "stdout"
        }
      ]
    },
    {
      "cell_type": "markdown",
      "metadata": {
        "id": "-ZK_7ktANLXt"
      },
      "source": [
        "boolean : data type true-false"
      ]
    },
    {
      "cell_type": "code",
      "metadata": {
        "colab": {
          "base_uri": "https://localhost:8080/"
        },
        "id": "PXNiQFbyNKt1",
        "outputId": "252eaf25-cb1c-42d0-b5a8-5ea325c24871"
      },
      "source": [
        "O=True\r\n",
        "O"
      ],
      "execution_count": null,
      "outputs": [
        {
          "output_type": "execute_result",
          "data": {
            "text/plain": [
              "True"
            ]
          },
          "metadata": {
            "tags": []
          },
          "execution_count": 15
        }
      ]
    },
    {
      "cell_type": "code",
      "metadata": {
        "colab": {
          "base_uri": "https://localhost:8080/"
        },
        "id": "mMOCFMi4NeTM",
        "outputId": "c2580c98-1428-4a30-a830-fd81d65f5f11"
      },
      "source": [
        "T=False\r\n",
        "T"
      ],
      "execution_count": null,
      "outputs": [
        {
          "output_type": "execute_result",
          "data": {
            "text/plain": [
              "False"
            ]
          },
          "metadata": {
            "tags": []
          },
          "execution_count": 16
        }
      ]
    },
    {
      "cell_type": "markdown",
      "metadata": {
        "id": "rxZHD8YvNojW"
      },
      "source": [
        "type function : identifies the variable data type"
      ]
    },
    {
      "cell_type": "code",
      "metadata": {
        "colab": {
          "base_uri": "https://localhost:8080/"
        },
        "id": "-wNokc9KNtpo",
        "outputId": "30f06d31-0552-4cdf-e57f-7e3297e7f679"
      },
      "source": [
        "print(type(2.5))\r\n",
        "print(type(5))\r\n",
        "print(type(True))\r\n",
        "print(type(\"mohamed\"))"
      ],
      "execution_count": null,
      "outputs": [
        {
          "output_type": "stream",
          "text": [
            "<class 'float'>\n",
            "<class 'int'>\n",
            "<class 'bool'>\n",
            "<class 'str'>\n"
          ],
          "name": "stdout"
        }
      ]
    },
    {
      "cell_type": "markdown",
      "metadata": {
        "id": "sWv9yRlTOa2R"
      },
      "source": [
        "commenting using #"
      ]
    },
    {
      "cell_type": "code",
      "metadata": {
        "id": "B3eVA-_TOc-0"
      },
      "source": [
        "#hello \r\n",
        "u=5"
      ],
      "execution_count": null,
      "outputs": []
    },
    {
      "cell_type": "markdown",
      "metadata": {
        "id": "_szLe5ItP4Xz"
      },
      "source": [
        "expression and variables"
      ]
    },
    {
      "cell_type": "code",
      "metadata": {
        "colab": {
          "base_uri": "https://localhost:8080/"
        },
        "id": "3kb1_7GXQBg5",
        "outputId": "bf59925f-7570-4a1d-f277-af1faad1072e"
      },
      "source": [
        "5*5"
      ],
      "execution_count": 19,
      "outputs": [
        {
          "output_type": "execute_result",
          "data": {
            "text/plain": [
              "25"
            ]
          },
          "metadata": {
            "tags": []
          },
          "execution_count": 19
        }
      ]
    },
    {
      "cell_type": "code",
      "metadata": {
        "colab": {
          "base_uri": "https://localhost:8080/"
        },
        "id": "1570s7zoQEv2",
        "outputId": "ec8d2a48-4183-4101-bfff-7040b7bd3292"
      },
      "source": [
        "25/6\r\n"
      ],
      "execution_count": 20,
      "outputs": [
        {
          "output_type": "execute_result",
          "data": {
            "text/plain": [
              "4.166666666666667"
            ]
          },
          "metadata": {
            "tags": []
          },
          "execution_count": 20
        }
      ]
    },
    {
      "cell_type": "code",
      "metadata": {
        "colab": {
          "base_uri": "https://localhost:8080/"
        },
        "id": "jMHr9visQWw_",
        "outputId": "8dbaa8fa-4004-4f2b-c7db-d6dfe45efe52"
      },
      "source": [
        "25//6"
      ],
      "execution_count": 22,
      "outputs": [
        {
          "output_type": "execute_result",
          "data": {
            "text/plain": [
              "4"
            ]
          },
          "metadata": {
            "tags": []
          },
          "execution_count": 22
        }
      ]
    },
    {
      "cell_type": "code",
      "metadata": {
        "colab": {
          "base_uri": "https://localhost:8080/"
        },
        "id": "UnvUj7gHQarT",
        "outputId": "ec0d0563-5e45-4545-bf3a-426fc7711ee6"
      },
      "source": [
        "2*60+30"
      ],
      "execution_count": 23,
      "outputs": [
        {
          "output_type": "execute_result",
          "data": {
            "text/plain": [
              "150"
            ]
          },
          "metadata": {
            "tags": []
          },
          "execution_count": 23
        }
      ]
    },
    {
      "cell_type": "code",
      "metadata": {
        "colab": {
          "base_uri": "https://localhost:8080/"
        },
        "id": "_bzqvISuQdn0",
        "outputId": "621cec77-b715-4bbf-c213-8d50687e2a77"
      },
      "source": [
        "30+60*2"
      ],
      "execution_count": 24,
      "outputs": [
        {
          "output_type": "execute_result",
          "data": {
            "text/plain": [
              "150"
            ]
          },
          "metadata": {
            "tags": []
          },
          "execution_count": 24
        }
      ]
    },
    {
      "cell_type": "code",
      "metadata": {
        "colab": {
          "base_uri": "https://localhost:8080/"
        },
        "id": "LN8xQrupQh3D",
        "outputId": "2babbcec-c563-45c3-e693-554a3587d390"
      },
      "source": [
        "(130*2)+160"
      ],
      "execution_count": 25,
      "outputs": [
        {
          "output_type": "execute_result",
          "data": {
            "text/plain": [
              "420"
            ]
          },
          "metadata": {
            "tags": []
          },
          "execution_count": 25
        }
      ]
    },
    {
      "cell_type": "code",
      "metadata": {
        "colab": {
          "base_uri": "https://localhost:8080/"
        },
        "id": "DgbaSYpmQsJs",
        "outputId": "26ce4401-c2fb-46dc-dd18-08ac07101a6c"
      },
      "source": [
        "x=170*23-249\r\n",
        "x"
      ],
      "execution_count": 27,
      "outputs": [
        {
          "output_type": "execute_result",
          "data": {
            "text/plain": [
              "3661"
            ]
          },
          "metadata": {
            "tags": []
          },
          "execution_count": 27
        }
      ]
    },
    {
      "cell_type": "markdown",
      "metadata": {
        "id": "WSHOwMwFRG_h"
      },
      "source": [
        "exponent operator (**)"
      ]
    },
    {
      "cell_type": "code",
      "metadata": {
        "colab": {
          "base_uri": "https://localhost:8080/"
        },
        "id": "ka6p4orHQ9Z_",
        "outputId": "f70326c7-386a-4e2f-ab87-108660938ba5"
      },
      "source": [
        "x=4**2\r\n",
        "x"
      ],
      "execution_count": 29,
      "outputs": [
        {
          "output_type": "execute_result",
          "data": {
            "text/plain": [
              "16"
            ]
          },
          "metadata": {
            "tags": []
          },
          "execution_count": 29
        }
      ]
    },
    {
      "cell_type": "markdown",
      "metadata": {
        "id": "Y6fjL6baR18p"
      },
      "source": [
        "String operations \r\n",
        "string may be \"\" or '' "
      ]
    },
    {
      "cell_type": "code",
      "metadata": {
        "colab": {
          "base_uri": "https://localhost:8080/",
          "height": 35
        },
        "id": "AgLjmTlFR8eW",
        "outputId": "41d28943-9197-4072-e22d-32d8540e9cd1"
      },
      "source": [
        "string=\"my name is mohamed\"\r\n",
        "string[-1]"
      ],
      "execution_count": 31,
      "outputs": [
        {
          "output_type": "execute_result",
          "data": {
            "application/vnd.google.colaboratory.intrinsic+json": {
              "type": "string"
            },
            "text/plain": [
              "'d'"
            ]
          },
          "metadata": {
            "tags": []
          },
          "execution_count": 31
        }
      ]
    },
    {
      "cell_type": "code",
      "metadata": {
        "colab": {
          "base_uri": "https://localhost:8080/",
          "height": 35
        },
        "id": "jqNJKqmISc6p",
        "outputId": "9cf055da-c6d6-4d16-fdbc-ce402eb90423"
      },
      "source": [
        "string[0:5]"
      ],
      "execution_count": 32,
      "outputs": [
        {
          "output_type": "execute_result",
          "data": {
            "application/vnd.google.colaboratory.intrinsic+json": {
              "type": "string"
            },
            "text/plain": [
              "'my na'"
            ]
          },
          "metadata": {
            "tags": []
          },
          "execution_count": 32
        }
      ]
    },
    {
      "cell_type": "code",
      "metadata": {
        "colab": {
          "base_uri": "https://localhost:8080/",
          "height": 35
        },
        "id": "ky_BtrcqSohl",
        "outputId": "527fcb2b-374d-477b-b6a8-e539c00ab4eb"
      },
      "source": [
        "string[5:9]"
      ],
      "execution_count": 33,
      "outputs": [
        {
          "output_type": "execute_result",
          "data": {
            "application/vnd.google.colaboratory.intrinsic+json": {
              "type": "string"
            },
            "text/plain": [
              "'me i'"
            ]
          },
          "metadata": {
            "tags": []
          },
          "execution_count": 33
        }
      ]
    },
    {
      "cell_type": "markdown",
      "metadata": {
        "id": "z5co6UAKTKFK"
      },
      "source": [
        "we can use len method to get size of a string"
      ]
    },
    {
      "cell_type": "code",
      "metadata": {
        "colab": {
          "base_uri": "https://localhost:8080/"
        },
        "id": "n9sOub_ISw5-",
        "outputId": "cca66b61-60bd-425e-f15f-f15902dda639"
      },
      "source": [
        "len(string)"
      ],
      "execution_count": 34,
      "outputs": [
        {
          "output_type": "execute_result",
          "data": {
            "text/plain": [
              "18"
            ]
          },
          "metadata": {
            "tags": []
          },
          "execution_count": 34
        }
      ]
    },
    {
      "cell_type": "markdown",
      "metadata": {
        "id": "itmpLuF_TEw0"
      },
      "source": [
        "we can assign step size also"
      ]
    },
    {
      "cell_type": "code",
      "metadata": {
        "colab": {
          "base_uri": "https://localhost:8080/",
          "height": 35
        },
        "id": "KPs1XWZfS1cQ",
        "outputId": "b3c27a91-8704-4f7a-e55e-61a7338774b8"
      },
      "source": [
        "string[0:18:2]"
      ],
      "execution_count": 35,
      "outputs": [
        {
          "output_type": "execute_result",
          "data": {
            "application/vnd.google.colaboratory.intrinsic+json": {
              "type": "string"
            },
            "text/plain": [
              "'m aei oae'"
            ]
          },
          "metadata": {
            "tags": []
          },
          "execution_count": 35
        }
      ]
    },
    {
      "cell_type": "markdown",
      "metadata": {
        "id": "i8DkUgEKTRtf"
      },
      "source": [
        "concatenation "
      ]
    },
    {
      "cell_type": "code",
      "metadata": {
        "id": "HGbwUyXrTTxk"
      },
      "source": [
        "string1=\"nader\""
      ],
      "execution_count": 38,
      "outputs": []
    },
    {
      "cell_type": "code",
      "metadata": {
        "id": "sHQfQfm0TYrK"
      },
      "source": [
        "string2=string+\" \"+string1"
      ],
      "execution_count": 39,
      "outputs": []
    },
    {
      "cell_type": "code",
      "metadata": {
        "colab": {
          "base_uri": "https://localhost:8080/",
          "height": 35
        },
        "id": "mhWTF8HBTbPG",
        "outputId": "596f070e-25f4-48b8-8cff-4214b39e0bdf"
      },
      "source": [
        "string2\r\n"
      ],
      "execution_count": 40,
      "outputs": [
        {
          "output_type": "execute_result",
          "data": {
            "application/vnd.google.colaboratory.intrinsic+json": {
              "type": "string"
            },
            "text/plain": [
              "'my name is mohamed nader'"
            ]
          },
          "metadata": {
            "tags": []
          },
          "execution_count": 40
        }
      ]
    },
    {
      "cell_type": "markdown",
      "metadata": {
        "id": "fdiwcf_oTqcy"
      },
      "source": [
        "**strings are not mutuabel**\r\n",
        "string[0]=\"k\""
      ]
    },
    {
      "cell_type": "markdown",
      "metadata": {
        "id": "7N_eZQKXUL2M"
      },
      "source": [
        "escape sequences "
      ]
    },
    {
      "cell_type": "code",
      "metadata": {
        "colab": {
          "base_uri": "https://localhost:8080/"
        },
        "id": "B0DmvxYBUr7K",
        "outputId": "0b57dab4-ccd7-4036-9710-e91f72e757a0"
      },
      "source": [
        "print(\"my name\\nis mohamed\")"
      ],
      "execution_count": 41,
      "outputs": [
        {
          "output_type": "stream",
          "text": [
            "my name\n",
            "is mohamed\n"
          ],
          "name": "stdout"
        }
      ]
    },
    {
      "cell_type": "code",
      "metadata": {
        "colab": {
          "base_uri": "https://localhost:8080/"
        },
        "id": "nCtU8uAkUtto",
        "outputId": "bb0141df-a155-4943-e142-642eaf757808"
      },
      "source": [
        "print(\"my name\\tis mohamed\")"
      ],
      "execution_count": 42,
      "outputs": [
        {
          "output_type": "stream",
          "text": [
            "my name\tis mohamed\n"
          ],
          "name": "stdout"
        }
      ]
    },
    {
      "cell_type": "code",
      "metadata": {
        "colab": {
          "base_uri": "https://localhost:8080/"
        },
        "id": "9TQ8fcr1U7Mk",
        "outputId": "aac284d7-ca7c-4e82-dbb3-d42bb91b13fd"
      },
      "source": [
        "print(\"my name\\\\is mohamed\")"
      ],
      "execution_count": 43,
      "outputs": [
        {
          "output_type": "stream",
          "text": [
            "my name\\is mohamed\n"
          ],
          "name": "stdout"
        }
      ]
    },
    {
      "cell_type": "code",
      "metadata": {
        "colab": {
          "base_uri": "https://localhost:8080/"
        },
        "id": "wjPgYi7LVLrm",
        "outputId": "0a6b6cd2-f870-4409-cc1a-f8117074cfc6"
      },
      "source": [
        "print(r\"my name\\\\is mohamed\")"
      ],
      "execution_count": 45,
      "outputs": [
        {
          "output_type": "stream",
          "text": [
            "my name\\\\is mohamed\n"
          ],
          "name": "stdout"
        }
      ]
    },
    {
      "cell_type": "markdown",
      "metadata": {
        "id": "EuhDHrZ8VZ0I"
      },
      "source": [
        "some other methods"
      ]
    },
    {
      "cell_type": "code",
      "metadata": {
        "id": "IsXP0ye5VdVT"
      },
      "source": [
        "string3=\"goutlek adieu\""
      ],
      "execution_count": 46,
      "outputs": []
    },
    {
      "cell_type": "code",
      "metadata": {
        "colab": {
          "base_uri": "https://localhost:8080/",
          "height": 35
        },
        "id": "CdIjRFPQVimK",
        "outputId": "74345d0c-0311-41fa-b2bf-03f60ed0143c"
      },
      "source": [
        "string4=string3.upper()\r\n",
        "string4"
      ],
      "execution_count": 50,
      "outputs": [
        {
          "output_type": "execute_result",
          "data": {
            "application/vnd.google.colaboratory.intrinsic+json": {
              "type": "string"
            },
            "text/plain": [
              "'GOUTLEK ADIEU'"
            ]
          },
          "metadata": {
            "tags": []
          },
          "execution_count": 50
        }
      ]
    },
    {
      "cell_type": "code",
      "metadata": {
        "colab": {
          "base_uri": "https://localhost:8080/",
          "height": 35
        },
        "id": "qZd9MlnSV01R",
        "outputId": "3472b990-ebba-4601-d4cc-2cc200e5395e"
      },
      "source": [
        "string4.lower()"
      ],
      "execution_count": 51,
      "outputs": [
        {
          "output_type": "execute_result",
          "data": {
            "application/vnd.google.colaboratory.intrinsic+json": {
              "type": "string"
            },
            "text/plain": [
              "'goutlek adieu'"
            ]
          },
          "metadata": {
            "tags": []
          },
          "execution_count": 51
        }
      ]
    },
    {
      "cell_type": "code",
      "metadata": {
        "colab": {
          "base_uri": "https://localhost:8080/",
          "height": 35
        },
        "id": "2UnIco_SV55R",
        "outputId": "0935bdfe-cf1b-44bb-9456-36ac5d96ae81"
      },
      "source": [
        "string3.replace(\"goutlek\",\"Goutlek\")"
      ],
      "execution_count": 52,
      "outputs": [
        {
          "output_type": "execute_result",
          "data": {
            "application/vnd.google.colaboratory.intrinsic+json": {
              "type": "string"
            },
            "text/plain": [
              "'Goutlek adieu'"
            ]
          },
          "metadata": {
            "tags": []
          },
          "execution_count": 52
        }
      ]
    },
    {
      "cell_type": "code",
      "metadata": {
        "colab": {
          "base_uri": "https://localhost:8080/"
        },
        "id": "AJI0yriyWFAH",
        "outputId": "974596c7-769f-4ee8-a025-9c4490b9efb3"
      },
      "source": [
        "string3.find(\"le\")"
      ],
      "execution_count": 54,
      "outputs": [
        {
          "output_type": "execute_result",
          "data": {
            "text/plain": [
              "4"
            ]
          },
          "metadata": {
            "tags": []
          },
          "execution_count": 54
        }
      ]
    },
    {
      "cell_type": "code",
      "metadata": {
        "colab": {
          "base_uri": "https://localhost:8080/"
        },
        "id": "CcGM_dUiWjsy",
        "outputId": "a697230d-89bb-4fdf-858b-7b3d7715c5c5"
      },
      "source": [
        "string3.isalpha()"
      ],
      "execution_count": 57,
      "outputs": [
        {
          "output_type": "execute_result",
          "data": {
            "text/plain": [
              "False"
            ]
          },
          "metadata": {
            "tags": []
          },
          "execution_count": 57
        }
      ]
    },
    {
      "cell_type": "code",
      "metadata": {
        "id": "yEf2xs8QXYhR"
      },
      "source": [
        "string5=\"1234567\""
      ],
      "execution_count": 59,
      "outputs": []
    },
    {
      "cell_type": "code",
      "metadata": {
        "colab": {
          "base_uri": "https://localhost:8080/"
        },
        "id": "LSAwb8THXbv3",
        "outputId": "fe33fe4d-7b13-4f3e-9f5b-55600196bdf6"
      },
      "source": [
        "string5.isnumeric()"
      ],
      "execution_count": 60,
      "outputs": [
        {
          "output_type": "execute_result",
          "data": {
            "text/plain": [
              "True"
            ]
          },
          "metadata": {
            "tags": []
          },
          "execution_count": 60
        }
      ]
    },
    {
      "cell_type": "code",
      "metadata": {
        "colab": {
          "base_uri": "https://localhost:8080/"
        },
        "id": "lJLOES0fXw3G",
        "outputId": "5e647ff5-d475-4844-fa15-8805c30f174e"
      },
      "source": [
        "string6=\"abcdef\"\r\n",
        "string6.isalpha()"
      ],
      "execution_count": 61,
      "outputs": [
        {
          "output_type": "execute_result",
          "data": {
            "text/plain": [
              "True"
            ]
          },
          "metadata": {
            "tags": []
          },
          "execution_count": 61
        }
      ]
    },
    {
      "cell_type": "code",
      "metadata": {
        "colab": {
          "base_uri": "https://localhost:8080/"
        },
        "id": "2AfG9aW6X7BI",
        "outputId": "529970be-82ff-484b-dc70-972fe6153a99"
      },
      "source": [
        "string6.isupper() #if upper case"
      ],
      "execution_count": 62,
      "outputs": [
        {
          "output_type": "execute_result",
          "data": {
            "text/plain": [
              "False"
            ]
          },
          "metadata": {
            "tags": []
          },
          "execution_count": 62
        }
      ]
    },
    {
      "cell_type": "code",
      "metadata": {
        "colab": {
          "base_uri": "https://localhost:8080/"
        },
        "id": "1WXXDxltYB4q",
        "outputId": "f9bae5ba-99d5-471a-95a2-aebcc19afb7e"
      },
      "source": [
        "string7=\"ABCD\"\r\n",
        "string7.islower() #if lower case"
      ],
      "execution_count": 63,
      "outputs": [
        {
          "output_type": "execute_result",
          "data": {
            "text/plain": [
              "False"
            ]
          },
          "metadata": {
            "tags": []
          },
          "execution_count": 63
        }
      ]
    },
    {
      "cell_type": "code",
      "metadata": {
        "colab": {
          "base_uri": "https://localhost:8080/",
          "height": 35
        },
        "id": "9BfiA9BDYyFo",
        "outputId": "65411f59-77d0-4461-e170-f06aaa9509ed"
      },
      "source": [
        "string3"
      ],
      "execution_count": 64,
      "outputs": [
        {
          "output_type": "execute_result",
          "data": {
            "application/vnd.google.colaboratory.intrinsic+json": {
              "type": "string"
            },
            "text/plain": [
              "'goutlek adieu'"
            ]
          },
          "metadata": {
            "tags": []
          },
          "execution_count": 64
        }
      ]
    },
    {
      "cell_type": "code",
      "metadata": {
        "colab": {
          "base_uri": "https://localhost:8080/"
        },
        "id": "5nTSUWPnY0M7",
        "outputId": "4678d869-09e9-4d65-8ae5-8852fdb5b31e"
      },
      "source": [
        "string3.split(\" \") #split string afer a specific character or separator"
      ],
      "execution_count": 65,
      "outputs": [
        {
          "output_type": "execute_result",
          "data": {
            "text/plain": [
              "['goutlek', 'adieu']"
            ]
          },
          "metadata": {
            "tags": []
          },
          "execution_count": 65
        }
      ]
    }
  ]
}